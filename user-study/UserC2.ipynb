{
 "cells": [
  {
   "cell_type": "code",
   "execution_count": 169,
   "metadata": {},
   "outputs": [],
   "source": [
    "import altair as alt\n",
    "from altair_saver import save\n",
    "import pydataset \n",
    "import itertools\n",
    "import json\n",
    "import random\n",
    "import pandas as pd\n",
    "import numpy as np\n",
    "import re\n",
    "import matplotlib.pyplot as plt\n",
    "import os\n",
    "import math\n",
    "import toolz\n",
    "import glob\n",
    "import copy"
   ]
  },
  {
   "cell_type": "markdown",
   "metadata": {},
   "source": [
    "## Render User Created Charts"
   ]
  },
  {
   "cell_type": "code",
   "execution_count": 124,
   "metadata": {},
   "outputs": [],
   "source": [
    "FOLDER = 'UserC2'"
   ]
  },
  {
   "cell_type": "code",
   "execution_count": 62,
   "metadata": {},
   "outputs": [],
   "source": [
    "scoreDF = pd.read_csv(os.path.join(FOLDER, 'scoreRecord.csv'))"
   ]
  },
  {
   "cell_type": "code",
   "execution_count": 128,
   "metadata": {},
   "outputs": [],
   "source": [
    "UserBatch = pd.read_csv(os.path.join(FOLDER, 'HumanCreated_batch_results.csv'))"
   ]
  },
  {
   "cell_type": "code",
   "execution_count": 129,
   "metadata": {},
   "outputs": [],
   "source": [
    "def getEditTimes(d):\n",
    "    return len(json.loads(json.loads(d)[0]['history']))\n",
    "editTimes = [getEditTimes(d) for d in UserBatch['Answer.taskAnswers'].values]"
   ]
  },
  {
   "cell_type": "code",
   "execution_count": 192,
   "metadata": {},
   "outputs": [],
   "source": [
    "pd.DataFrame({'time': UserBatch['WorkTimeInSeconds'].values, 'edit': editTimes})\\\n",
    "    .to_csv(os.path.join(FOLDER, 'userc2HumanResult.csv'), index = False)"
   ]
  },
  {
   "cell_type": "code",
   "execution_count": 131,
   "metadata": {},
   "outputs": [],
   "source": [
    "Height = 400\n",
    "def render(_vSpec, aspectRatio, band, textR, orientation):\n",
    "    if (_vSpec['encoding']['x']['type'] == 'ordinal'):\n",
    "        _vSpecNum = _vSpec['encoding']['y']\n",
    "        _vSpecCat = _vSpec['encoding']['x']\n",
    "    else:\n",
    "        _vSpecNum = _vSpec['encoding']['x']\n",
    "        _vSpecCat = _vSpec['encoding']['y']        \n",
    "         \n",
    "    _vSpecCat['band'] = band\n",
    "    _vSpecCat['axis']['labelAngle'] = textR \n",
    "   \n",
    "    _vSpec['width'] = Height * aspectRatio\n",
    "    _vSpec['height'] = Height\n",
    "        \n",
    "    if orientation == 0:\n",
    "        _vSpec['encoding']['y'] = _vSpecNum\n",
    "        _vSpec['encoding']['x'] = _vSpecCat\n",
    "    else:       \n",
    "        _vSpec['encoding']['x'] = _vSpecNum\n",
    "        _vSpec['encoding']['y'] = _vSpecCat\n",
    "        \n",
    "    return _vSpec"
   ]
  },
  {
   "cell_type": "code",
   "execution_count": 155,
   "metadata": {},
   "outputs": [
    {
     "name": "stdout",
     "output_type": "stream",
     "text": [
      "0 8 5 1.75\n",
      "1 8 12 1.0\n",
      "2 20 13 2.0\n",
      "3 20 10 1.75\n",
      "4 15 5 1.0\n",
      "5 17 6 1.5\n",
      "6 21 6 1.5\n",
      "7 9 4 1.5\n",
      "8 17 6 1.5\n",
      "9 24 9 2.0\n",
      "10 20 6 0.75\n",
      "11 16 6 1.75\n",
      "12 20 4 2.0\n",
      "13 13 13 2.0\n",
      "14 8 7 1.5\n",
      "15 20 8 1.25\n",
      "16 7 8 2.0\n",
      "17 5 6 2.0\n",
      "18 21 9 2.0\n",
      "19 24 6 1.25\n",
      "20 20 12 1.0\n",
      "21 12 3 1.0\n",
      "22 5 6 1.25\n",
      "23 15 6 1.75\n",
      "24 17 11 2.0\n",
      "25 19 6 1.75\n",
      "26 9 3 1.75\n",
      "27 5 7 2.0\n",
      "28 13 11 0.75\n",
      "29 15 11 1.0\n",
      "30 21 9 0.75\n",
      "31 13 11 1.5\n",
      "32 14 4 1.75\n",
      "33 15 8 2.0\n",
      "34 9 5 0.75\n",
      "35 16 6 1.25\n",
      "36 19 10 1.25\n",
      "37 19 7 1.75\n",
      "38 6 11 1.0\n",
      "39 20 13 1.5\n",
      "40 10 13 1.5\n",
      "41 21 12 1.75\n",
      "42 12 7 1.0\n",
      "43 18 13 2.0\n",
      "44 16 10 0.75\n",
      "45 8 4 0.75\n",
      "46 22 11 0.75\n",
      "47 6 6 1.25\n",
      "48 24 4 1.75\n",
      "49 5 10 1.25\n",
      "50 17 11 1.75\n",
      "51 12 3 1.5\n",
      "52 11 9 2.0\n",
      "53 11 8 1.0\n",
      "54 19 12 2.0\n",
      "55 22 11 1.25\n",
      "56 17 4 1.75\n",
      "57 13 7 1.75\n",
      "58 11 7 1.0\n",
      "59 23 10 1.75\n",
      "60 23 9 2.0\n",
      "61 22 10 2.0\n",
      "62 10 8 1.75\n",
      "63 10 6 1.25\n",
      "64 24 11 1.25\n",
      "65 23 8 2.0\n",
      "66 24 8 0.75\n",
      "67 22 12 1.5\n",
      "68 8 13 0.75\n",
      "69 24 9 1.25\n",
      "70 11 3 1.25\n",
      "71 8 5 1.5\n",
      "72 19 10 1.25\n",
      "73 17 10 1.0\n",
      "74 14 9 1.5\n",
      "75 23 7 1.75\n"
     ]
    }
   ],
   "source": [
    "idx = 0\n",
    "for i, d in enumerate(UserBatch['Answer.taskAnswers'].values):\n",
    "    vSpec = json.loads(json.loads(d)[0]['iSpec'])\n",
    "    \n",
    "    # set none => False\n",
    "    if vSpec['encoding']['x']['type'] == 'quantitative':\n",
    "        vSpec['encoding']['x']['axis']['grid'] = False\n",
    "    else:\n",
    "        vSpec['encoding']['y']['axis']['grid'] = False\n",
    "    \n",
    "    # Name is broken\n",
    "    for j, x in enumerate(vSpec['data']['values']):\n",
    "        x['Name'] = \"\".join(x['Name'])\n",
    "\n",
    "    # parse fixed parameters\n",
    "    NBar = len(vSpec['data']['values'])\n",
    "    maxChar = max([len(x['Name']) for x in vSpec['data']['values']])\n",
    "    \n",
    "    # maxwidth\n",
    "#     maxAspecRatio = min(800, vSpec['width'] + 100) / Height\n",
    "    maxAspecRatio = int(json.loads(d)[0]['iMaxWidth']) / Height\n",
    "    \n",
    "    if NBar > 25:\n",
    "        continue\n",
    "        \n",
    "    # render user 0\n",
    "    chart = alt.Chart.from_dict(vSpec)\n",
    "    namePrefix = str(idx) + '_' + '0'\n",
    "    chart.save(os.path.join(FOLDER, 'User', namePrefix + '.png'))\n",
    "    with open(os.path.join(FOLDER, 'User', namePrefix + '.json'), 'w') as f:\n",
    "        json.dump(vSpec, f)\n",
    "        \n",
    "    # render opt 2\n",
    "    print(idx, NBar, maxChar,maxAspecRatio )\n",
    "    optPara = scoreDF[(scoreDF.nbar == NBar) & (scoreDF.char == maxChar) & (scoreDF.aspectRatio <= maxAspecRatio)].sort_values(by='score', ascending =False).iloc[0]\n",
    "    optSpec = render(copy.deepcopy(vSpec), optPara['aspectRatio'], \\\n",
    "           optPara['bandwidth'], optPara['rotation'], optPara['orientation'])\n",
    "    chart = alt.Chart.from_dict(optSpec)\n",
    "    namePrefix = str(idx) + '_' + '2'\n",
    "    chart.save(os.path.join(FOLDER, 'Opt', namePrefix + '.png'))\n",
    "    with open(os.path.join(FOLDER, 'Opt', namePrefix + '.json'), 'w') as f:\n",
    "        json.dump(optSpec, f)\n",
    "        \n",
    "    # render  3\n",
    "    randSpec = render(copy.deepcopy(vSpec), random.sample(AspectRatioRanges, 1)[0], \\\n",
    "           random.sample(BandRanges, 1)[0], random.sample(TextRotationRanges, 1)[0], \\\n",
    "                     random.sample(OrientationRanges, 1)[0])\n",
    "    chart = alt.Chart.from_dict(randSpec)\n",
    "    namePrefix = str(idx) + '_' + '3'\n",
    "    chart.save(os.path.join(FOLDER, 'Random', namePrefix + '.png'))\n",
    "    with open(os.path.join(FOLDER, 'Random', namePrefix + '.json'), 'w') as f:\n",
    "        json.dump(optSpec, f)\n",
    "        \n",
    "    # default 1\n",
    "    dSpec = copy.deepcopy(vSpec)\n",
    "    dSpec['width'] = maxAspecRatio * Height\n",
    "    if dSpec['encoding']['x']['type'] == 'ordinal':\n",
    "        dSpecCat = dSpec['encoding']['x']\n",
    "        dSpecNum = dSpec['encoding']['y']\n",
    "    else:\n",
    "        dSpecCat = dSpec['encoding']['y']\n",
    "        dSpecNum = dSpec['encoding']['x']\n",
    "    del dSpecCat['band']\n",
    "    del dSpecCat['axis']\n",
    "    del dSpecCat['scale']['paddingInner']\n",
    "    dSpec['encoding']['x'] = dSpecCat\n",
    "    dSpec['encoding']['y'] = dSpecNum\n",
    "    chart = alt.Chart.from_dict(dSpec)\n",
    "    namePrefix = str(idx) + '_' + '1'\n",
    "    chart.save(os.path.join(FOLDER, 'Default', namePrefix + '.png'))\n",
    "    with open(os.path.join(FOLDER, 'Default', namePrefix + '.json'), 'w') as f:\n",
    "        json.dump(optSpec, f)  \n",
    "        \n",
    "    idx = idx + 1"
   ]
  },
  {
   "cell_type": "code",
   "execution_count": 43,
   "metadata": {},
   "outputs": [
    {
     "data": {
      "text/plain": [
       "[{'Name': ['chevrolet chevelle malibu'], 'Horsepower': 130},\n",
       " {'Name': ['buick skylark 32', ''], 'Horsepower': 165},\n",
       " {'Name': ['plymouth satellite'], 'Horsepower': 150},\n",
       " {'Name': ['amc rebel sst'], 'Horsepower': 150},\n",
       " {'Name': ['ford torino'], 'Horsepower': 140},\n",
       " {'Name': ['ford galaxie 5', '', ''], 'Horsepower': 198},\n",
       " {'Name': ['chevrolet impala'], 'Horsepower': 220}]"
      ]
     },
     "execution_count": 43,
     "metadata": {},
     "output_type": "execute_result"
    }
   ],
   "source": [
    "json.loads(json.loads(d)[0]['data'])"
   ]
  },
  {
   "cell_type": "code",
   "execution_count": 156,
   "metadata": {},
   "outputs": [],
   "source": [
    "folder = 'UserC2'\n",
    "def getFilename(path):\n",
    "    return \"https://xxxxxxxxxxxx/u2/\" + os.path.split(path)[1]\n",
    "humanC = [getFilename(x) for x in glob.glob(os.path.join(folder, \"User\", \"*.png\"))]\n",
    "optC = [getFilename(x) for x in glob.glob(os.path.join(folder, \"Opt\", \"*.png\"))]\n",
    "defaultC = [getFilename(x) for x in glob.glob(os.path.join(folder, \"Default\", \"*.png\"))]\n",
    "randomC = [getFilename(x) for x in glob.glob(os.path.join(folder, \"Random\", \"*.png\"))]\n",
    "\n",
    "humanC.sort()\n",
    "optC.sort()\n",
    "defaultC.sort()\n",
    "randomC.sort()\n",
    "\n",
    "fourwayZip = list(zip(humanC, optC, defaultC, randomC))\n",
    "pairwiseCompare = [list(itertools.combinations(cc, 2)) for cc in fourwayZip]\n",
    "pairs = list(itertools.chain(*pairwiseCompare))\n",
    "\n",
    "np.random.shuffle(pairs)\n",
    "def zipForCompare(pairs, perBatch = 9):\n",
    "    if len(pairs) % perBatch != 0:\n",
    "        remaining = perBatch - len(pairs) % perBatch\n",
    "        pairs.extend(pairs[:remaining])\n",
    "    \n",
    "    zipPairs = [list(itertools.chain(*pairs[i:i+perBatch])) for i in range(0, len(pairs), perBatch)]\n",
    "    columnNames = []\n",
    "    for i in range(1, perBatch + 1):\n",
    "        columnNames.append('img' + str(i) + '_1')\n",
    "        columnNames.append('img' + str(i) + '_2')\n",
    "    return pd.DataFrame(zipPairs, columns=columnNames)\n",
    "#     zipPairsDF.head()   \n",
    "#     zipPairsDF.to_csv('exp7.csv', index = False)\n",
    "zipForCompare(pairs).to_csv(os.path.join(folder, 'aturk.csv'), index = False)"
   ]
  },
  {
   "cell_type": "code",
   "execution_count": 183,
   "metadata": {},
   "outputs": [
    {
     "data": {
      "text/plain": [
       "WilcoxonResult(statistic=1023.5, pvalue=0.2688451314616589)"
      ]
     },
     "execution_count": 183,
     "metadata": {},
     "output_type": "execute_result"
    }
   ],
   "source": [
    "pairCount = resultPair[(resultPair.img1Gp == \"1\") & (resultPair.img2Gp == \"3\")].groupby(['cIdx', 'wIdx']).size().unstack().fillna(0)\n",
    "# pairCount.head()\n",
    "wilcoxon(pairCount[1].values, pairCount[2].values)"
   ]
  },
  {
   "cell_type": "code",
   "execution_count": null,
   "metadata": {},
   "outputs": [],
   "source": []
  },
  {
   "cell_type": "code",
   "execution_count": null,
   "metadata": {},
   "outputs": [],
   "source": []
  }
 ],
 "metadata": {
  "kernelspec": {
   "display_name": "myKernel",
   "language": "python",
   "name": "venv"
  },
  "language_info": {
   "codemirror_mode": {
    "name": "ipython",
    "version": 3
   },
   "file_extension": ".py",
   "mimetype": "text/x-python",
   "name": "python",
   "nbconvert_exporter": "python",
   "pygments_lexer": "ipython3",
   "version": "3.6.9"
  }
 },
 "nbformat": 4,
 "nbformat_minor": 2
}
