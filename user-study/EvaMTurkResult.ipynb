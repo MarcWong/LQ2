{
 "cells": [
  {
   "cell_type": "code",
   "execution_count": 29,
   "metadata": {},
   "outputs": [],
   "source": [
    "import pydataset \n",
    "import itertools\n",
    "import json\n",
    "import random\n",
    "import pandas as pd\n",
    "import numpy as np\n",
    "import re\n",
    "import matplotlib.pyplot as plt\n",
    "import os\n",
    "import math\n",
    "import toolz\n",
    "import glob\n",
    "import copy\n",
    "from scipy.stats import wilcoxon, norm\n",
    "import plotly.express as px\n",
    "import plotly.graph_objects as go\n",
    "import torch\n",
    "import numpy as np\n",
    "import pandas as pd"
   ]
  },
  {
   "cell_type": "code",
   "execution_count": 3,
   "metadata": {},
   "outputs": [],
   "source": [
    "exp1 = pd.concat([pd.read_csv('UserC1/eva_3ppl_batch_results.csv'),\n",
    "                 pd.read_csv('UserC1/eva_7ppl_batch_results.csv')])\n",
    "exp2 = pd.read_csv('UserC2/aturk_batch_results.csv')"
   ]
  },
  {
   "cell_type": "code",
   "execution_count": 6,
   "metadata": {},
   "outputs": [],
   "source": [
    "def filterResults(df):\n",
    "    df['quality'] = df.apply(lambda x: getQuality(x), axis = 1)\n",
    "    return df[df.quality == True]\n",
    "    \n",
    "def getQuality(row):\n",
    "    ans = json.loads(row['Answer.taskAnswers'])[0]\n",
    "    if (ans['img10_1']['img10_1'] == ans['img1_1']['img1_1']):\n",
    "        return False\n",
    "    else:\n",
    "        return True\n",
    "\n",
    "def unPack(df):\n",
    "    pairs = []\n",
    "    answers = []\n",
    "    for idx, row in df.iterrows():\n",
    "        ans = json.loads(row['Answer.taskAnswers'])[0]\n",
    "        for i in range(1, 9 + 1):\n",
    "            key = 'img' + str(i) + '_1'\n",
    "            key2 = 'img' + str(i) + '_2'\n",
    "            if ans[key][key] == True:\n",
    "                pairs.append([row[\"Input.\" + key], row[\"Input.\" + key2], 1])\n",
    "                answers.append(1)\n",
    "            else:\n",
    "                pairs.append([row[\"Input.\" + key], row[\"Input.\" + key2], 2])\n",
    "                answers.append(2)\n",
    "\n",
    "    resultPair = pd.DataFrame(pairs, columns=['img1', 'img2', 'wIdx'])\n",
    "    resultPair['img1Gp'] = resultPair['img1'].apply(lambda x: x.split('/')[-1].split('.')[0].split('_')[1])\n",
    "    resultPair['img2Gp'] = resultPair['img2'].apply(lambda x: x.split('/')[-1].split('.')[0].split('_')[1])\n",
    "    resultPair['cIdx'] = resultPair['img1'].apply(lambda x: x.split('/')[-1].split('_')[0])\n",
    "    \n",
    "    return resultPair\n",
    "\n",
    "def getResult(df):\n",
    "    return unPack(filterResults(df))"
   ]
  },
  {
   "cell_type": "code",
   "execution_count": 8,
   "metadata": {},
   "outputs": [],
   "source": [
    "exp1Result = getResult(exp1)\n",
    "exp2Result = getResult(exp2)"
   ]
  },
  {
   "cell_type": "code",
   "execution_count": 23,
   "metadata": {},
   "outputs": [],
   "source": [
    "def test(resultPair, group1, group2):\n",
    "    pairCount = resultPair[(resultPair.img1Gp == group1) & (resultPair.img2Gp == group2)].groupby(['cIdx', 'wIdx']).size().unstack().fillna(0)\n",
    "    # pairCount.head()\n",
    "    return wilcoxon(pairCount[1].values, pairCount[2].values)"
   ]
  },
  {
   "cell_type": "code",
   "execution_count": 16,
   "metadata": {},
   "outputs": [],
   "source": [
    "name = ['Human', 'Excel', 'Ours', 'Random']"
   ]
  },
  {
   "cell_type": "markdown",
   "metadata": {},
   "source": [
    "## 0 human; 1 excel/vega; 2 ours; 3 random"
   ]
  },
  {
   "cell_type": "code",
   "execution_count": 21,
   "metadata": {},
   "outputs": [
    {
     "data": {
      "text/html": [
       "<div>\n",
       "<style scoped>\n",
       "    .dataframe tbody tr th:only-of-type {\n",
       "        vertical-align: middle;\n",
       "    }\n",
       "\n",
       "    .dataframe tbody tr th {\n",
       "        vertical-align: top;\n",
       "    }\n",
       "\n",
       "    .dataframe thead th {\n",
       "        text-align: right;\n",
       "    }\n",
       "</style>\n",
       "<table border=\"1\" class=\"dataframe\">\n",
       "  <thead>\n",
       "    <tr style=\"text-align: right;\">\n",
       "      <th></th>\n",
       "      <th>wIdx</th>\n",
       "      <th>1</th>\n",
       "      <th>2</th>\n",
       "    </tr>\n",
       "    <tr>\n",
       "      <th>img1Gp</th>\n",
       "      <th>img2Gp</th>\n",
       "      <th></th>\n",
       "      <th></th>\n",
       "    </tr>\n",
       "  </thead>\n",
       "  <tbody>\n",
       "    <tr>\n",
       "      <th rowspan=\"3\" valign=\"top\">0</th>\n",
       "      <th>1</th>\n",
       "      <td>209</td>\n",
       "      <td>192</td>\n",
       "    </tr>\n",
       "    <tr>\n",
       "      <th>2</th>\n",
       "      <td>170</td>\n",
       "      <td>249</td>\n",
       "    </tr>\n",
       "    <tr>\n",
       "      <th>3</th>\n",
       "      <td>261</td>\n",
       "      <td>147</td>\n",
       "    </tr>\n",
       "    <tr>\n",
       "      <th rowspan=\"2\" valign=\"top\">1</th>\n",
       "      <th>2</th>\n",
       "      <td>156</td>\n",
       "      <td>263</td>\n",
       "    </tr>\n",
       "    <tr>\n",
       "      <th>3</th>\n",
       "      <td>219</td>\n",
       "      <td>190</td>\n",
       "    </tr>\n",
       "    <tr>\n",
       "      <th>2</th>\n",
       "      <th>3</th>\n",
       "      <td>281</td>\n",
       "      <td>138</td>\n",
       "    </tr>\n",
       "  </tbody>\n",
       "</table>\n",
       "</div>"
      ],
      "text/plain": [
       "wIdx             1    2\n",
       "img1Gp img2Gp          \n",
       "0      1       209  192\n",
       "       2       170  249\n",
       "       3       261  147\n",
       "1      2       156  263\n",
       "       3       219  190\n",
       "2      3       281  138"
      ]
     },
     "execution_count": 21,
     "metadata": {},
     "output_type": "execute_result"
    }
   ],
   "source": [
    "exp1Result.groupby(['img1Gp', 'img2Gp', 'wIdx']).size().unstack().fillna(0)"
   ]
  },
  {
   "cell_type": "code",
   "execution_count": 25,
   "metadata": {},
   "outputs": [
    {
     "name": "stdout",
     "output_type": "stream",
     "text": [
      "Human Excel wilcoxon:  WilcoxonResult(statistic=443.0, pvalue=0.2833618437265718)\n",
      "Human Ours wilcoxon:  WilcoxonResult(statistic=246.0, pvalue=0.002094986264485123)\n",
      "Human Random wilcoxon:  WilcoxonResult(statistic=242.5, pvalue=0.0006423443816976878)\n",
      "Excel Ours wilcoxon:  WilcoxonResult(statistic=236.0, pvalue=0.00029245208578999936)\n",
      "Excel Random wilcoxon:  WilcoxonResult(statistic=379.0, pvalue=0.36254404238867344)\n",
      "Ours Random wilcoxon:  WilcoxonResult(statistic=112.0, pvalue=9.728832711072748e-07)\n"
     ]
    }
   ],
   "source": [
    "for pairs in [[0,1],[0,2],[0,3],[1,2],[1,3],[2,3]]:\n",
    "    i, j = pairs\n",
    "    print(name[i], name[j], 'wilcoxon: ', test(exp1Result, str(i), str(j)))"
   ]
  },
  {
   "cell_type": "code",
   "execution_count": null,
   "metadata": {},
   "outputs": [],
   "source": []
  },
  {
   "cell_type": "code",
   "execution_count": 26,
   "metadata": {},
   "outputs": [
    {
     "data": {
      "text/html": [
       "<div>\n",
       "<style scoped>\n",
       "    .dataframe tbody tr th:only-of-type {\n",
       "        vertical-align: middle;\n",
       "    }\n",
       "\n",
       "    .dataframe tbody tr th {\n",
       "        vertical-align: top;\n",
       "    }\n",
       "\n",
       "    .dataframe thead th {\n",
       "        text-align: right;\n",
       "    }\n",
       "</style>\n",
       "<table border=\"1\" class=\"dataframe\">\n",
       "  <thead>\n",
       "    <tr style=\"text-align: right;\">\n",
       "      <th></th>\n",
       "      <th>wIdx</th>\n",
       "      <th>1</th>\n",
       "      <th>2</th>\n",
       "    </tr>\n",
       "    <tr>\n",
       "      <th>img1Gp</th>\n",
       "      <th>img2Gp</th>\n",
       "      <th></th>\n",
       "      <th></th>\n",
       "    </tr>\n",
       "  </thead>\n",
       "  <tbody>\n",
       "    <tr>\n",
       "      <th rowspan=\"3\" valign=\"top\">0</th>\n",
       "      <th>1</th>\n",
       "      <td>464</td>\n",
       "      <td>279</td>\n",
       "    </tr>\n",
       "    <tr>\n",
       "      <th>2</th>\n",
       "      <td>363</td>\n",
       "      <td>383</td>\n",
       "    </tr>\n",
       "    <tr>\n",
       "      <th>3</th>\n",
       "      <td>480</td>\n",
       "      <td>257</td>\n",
       "    </tr>\n",
       "    <tr>\n",
       "      <th>1</th>\n",
       "      <th>3</th>\n",
       "      <td>397</td>\n",
       "      <td>346</td>\n",
       "    </tr>\n",
       "    <tr>\n",
       "      <th rowspan=\"2\" valign=\"top\">2</th>\n",
       "      <th>1</th>\n",
       "      <td>480</td>\n",
       "      <td>249</td>\n",
       "    </tr>\n",
       "    <tr>\n",
       "      <th>3</th>\n",
       "      <td>488</td>\n",
       "      <td>251</td>\n",
       "    </tr>\n",
       "  </tbody>\n",
       "</table>\n",
       "</div>"
      ],
      "text/plain": [
       "wIdx             1    2\n",
       "img1Gp img2Gp          \n",
       "0      1       464  279\n",
       "       2       363  383\n",
       "       3       480  257\n",
       "1      3       397  346\n",
       "2      1       480  249\n",
       "       3       488  251"
      ]
     },
     "execution_count": 26,
     "metadata": {},
     "output_type": "execute_result"
    }
   ],
   "source": [
    "exp2Result.groupby(['img1Gp', 'img2Gp', 'wIdx']).size().unstack().fillna(0)"
   ]
  },
  {
   "cell_type": "code",
   "execution_count": 28,
   "metadata": {},
   "outputs": [
    {
     "name": "stdout",
     "output_type": "stream",
     "text": [
      "Human Excel wilcoxon:  WilcoxonResult(statistic=360.0, pvalue=2.9495091098156303e-06)\n",
      "Human Ours wilcoxon:  WilcoxonResult(statistic=1042.5, pvalue=0.544568922308388)\n",
      "Human Random wilcoxon:  WilcoxonResult(statistic=345.0, pvalue=1.0631401679444258e-06)\n",
      "Excel Random wilcoxon:  WilcoxonResult(statistic=1023.5, pvalue=0.2688451314616589)\n",
      "Ours Excel wilcoxon:  WilcoxonResult(statistic=253.0, pvalue=3.6540081362299944e-09)\n",
      "Ours Random wilcoxon:  WilcoxonResult(statistic=370.0, pvalue=1.7830226865184712e-07)\n"
     ]
    }
   ],
   "source": [
    "for pairs in [[0,1],[0,2],[0,3],[1,3],[2,1],[2,3]]:\n",
    "    i, j = pairs\n",
    "    print(name[i], name[j], 'wilcoxon: ', test(exp2Result, str(i), str(j)))"
   ]
  },
  {
   "cell_type": "markdown",
   "metadata": {},
   "source": [
    "## Visualize time and edits"
   ]
  },
  {
   "cell_type": "code",
   "execution_count": 30,
   "metadata": {},
   "outputs": [],
   "source": [
    "df1 = pd.read_csv(os.path.join('UserC1', 'userc1HumanResult.csv'))\n",
    "df2 = pd.read_csv(os.path.join('UserC2', 'userc2HumanResult.csv'))"
   ]
  },
  {
   "cell_type": "code",
   "execution_count": 31,
   "metadata": {},
   "outputs": [
    {
     "data": {
      "image/png": "[encoded data removed]",
      "text/plain": [
       "<Figure size 216x72 with 1 Axes>"
      ]
     },
     "metadata": {
      "needs_background": "light"
     },
     "output_type": "display_data"
    }
   ],
   "source": [
    "## Time\n",
    "plt.figure(figsize=(3,1))\n",
    "fig = plt.boxplot([df2.time, df1.time], widths = 0.6, patch_artist=True, vert=False)\n",
    "for patch in fig['boxes']:\n",
    "    patch.set_facecolor('#bee3db')\n",
    "plt.xlim([0,200])\n",
    "    \n",
    "plt.show()"
   ]
  },
  {
   "cell_type": "code",
   "execution_count": 32,
   "metadata": {},
   "outputs": [
    {
     "data": {
      "image/png": "[encoded data removed]",
      "text/plain": [
       "<Figure size 216x72 with 1 Axes>"
      ]
     },
     "metadata": {
      "needs_background": "light"
     },
     "output_type": "display_data"
    }
   ],
   "source": [
    "## Edit\n",
    "plt.figure(figsize=(3,1))\n",
    "fig = plt.boxplot([ df2.edit, df1.edit], widths = 0.6, patch_artist=True, vert=False)\n",
    "for patch in fig['boxes']:\n",
    "    patch.set_facecolor('#bee3db')\n",
    "plt.xlim([0,75])\n",
    "      \n",
    "plt.show()"
   ]
  },
  {
   "cell_type": "code",
   "execution_count": null,
   "metadata": {},
   "outputs": [],
   "source": []
  }
 ],
 "metadata": {
  "kernelspec": {
   "display_name": "Python 3",
   "language": "python",
   "name": "python3"
  },
  "language_info": {
   "codemirror_mode": {
    "name": "ipython",
    "version": 3
   },
   "file_extension": ".py",
   "mimetype": "text/x-python",
   "name": "python",
   "nbconvert_exporter": "python",
   "pygments_lexer": "ipython3",
   "version": "3.6.9"
  }
 },
 "nbformat": 4,
 "nbformat_minor": 4
}
