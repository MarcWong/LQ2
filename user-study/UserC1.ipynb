{
 "cells": [
  {
   "cell_type": "markdown",
   "metadata": {},
   "source": [
    "## Generate baselines for UserC1 \n",
    "This file needs to be executed in Windows as it uses win32 to generate Excel charts"
   ]
  },
  {
   "cell_type": "code",
   "execution_count": 1,
   "metadata": {},
   "outputs": [],
   "source": [
    "import altair as alt\n",
    "from altair_saver import save\n",
    "import pydataset \n",
    "import itertools\n",
    "import json\n",
    "import random\n",
    "import pandas as pd\n",
    "import numpy as np\n",
    "import re\n",
    "import matplotlib.pyplot as plt\n",
    "import os\n",
    "import math\n",
    "import toolz\n",
    "import glob\n",
    "\n",
    "import datetime\n",
    "import win32com.client as win32\n",
    "from win32com.client import Dispatch\n",
    "from PIL import ImageGrab # for this module you should have \"Download Windows x86-64 executable installer\" You can download it from link:-https://www.python.org/downloads/windows/ \n",
    "import os"
   ]
  },
  {
   "cell_type": "code",
   "execution_count": 2,
   "metadata": {},
   "outputs": [],
   "source": [
    "UserBatch = pd.read_csv(os.path.join('UserC1', 'human_batch_results.csv'))"
   ]
  },
  {
   "cell_type": "code",
   "execution_count": 3,
   "metadata": {},
   "outputs": [],
   "source": [
    "def getEditTimes(d):\n",
    "    return len(json.loads(json.loads(d)[0]['history']))\n",
    "editTimes = [getEditTimes(d) for d in UserBatch['Answer.taskAnswers'].values]\n",
    "pd.DataFrame({'time': UserBatch['WorkTimeInSeconds'].values, 'edit': editTimes})\\\n",
    "    .to_csv(os.path.join('UserC1', 'userc1HumanResult.csv'), index= False)"
   ]
  },
  {
   "cell_type": "code",
   "execution_count": 4,
   "metadata": {},
   "outputs": [],
   "source": [
    "save_Folder = 'UserC1/ours'"
   ]
  },
  {
   "cell_type": "code",
   "execution_count": 5,
   "metadata": {},
   "outputs": [
    {
     "data": {
      "text/html": [
       "<div>\n",
       "<style scoped>\n",
       "    .dataframe tbody tr th:only-of-type {\n",
       "        vertical-align: middle;\n",
       "    }\n",
       "\n",
       "    .dataframe tbody tr th {\n",
       "        vertical-align: top;\n",
       "    }\n",
       "\n",
       "    .dataframe thead th {\n",
       "        text-align: right;\n",
       "    }\n",
       "</style>\n",
       "<table border=\"1\" class=\"dataframe\">\n",
       "  <thead>\n",
       "    <tr style=\"text-align: right;\">\n",
       "      <th></th>\n",
       "      <th>score</th>\n",
       "      <th>idx</th>\n",
       "      <th>nbar</th>\n",
       "      <th>width</th>\n",
       "      <th>bandwidth</th>\n",
       "    </tr>\n",
       "  </thead>\n",
       "  <tbody>\n",
       "    <tr>\n",
       "      <th>0</th>\n",
       "      <td>0.003002</td>\n",
       "      <td>0</td>\n",
       "      <td>5</td>\n",
       "      <td>300</td>\n",
       "      <td>0.10</td>\n",
       "    </tr>\n",
       "    <tr>\n",
       "      <th>1</th>\n",
       "      <td>0.074736</td>\n",
       "      <td>1</td>\n",
       "      <td>5</td>\n",
       "      <td>300</td>\n",
       "      <td>0.15</td>\n",
       "    </tr>\n",
       "    <tr>\n",
       "      <th>2</th>\n",
       "      <td>0.207065</td>\n",
       "      <td>2</td>\n",
       "      <td>5</td>\n",
       "      <td>300</td>\n",
       "      <td>0.20</td>\n",
       "    </tr>\n",
       "    <tr>\n",
       "      <th>3</th>\n",
       "      <td>0.248151</td>\n",
       "      <td>3</td>\n",
       "      <td>5</td>\n",
       "      <td>300</td>\n",
       "      <td>0.25</td>\n",
       "    </tr>\n",
       "    <tr>\n",
       "      <th>4</th>\n",
       "      <td>0.350648</td>\n",
       "      <td>4</td>\n",
       "      <td>5</td>\n",
       "      <td>300</td>\n",
       "      <td>0.30</td>\n",
       "    </tr>\n",
       "  </tbody>\n",
       "</table>\n",
       "</div>"
      ],
      "text/plain": [
       "      score  idx  nbar  width  bandwidth\n",
       "0  0.003002    0     5    300       0.10\n",
       "1  0.074736    1     5    300       0.15\n",
       "2  0.207065    2     5    300       0.20\n",
       "3  0.248151    3     5    300       0.25\n",
       "4  0.350648    4     5    300       0.30"
      ]
     },
     "execution_count": 5,
     "metadata": {},
     "output_type": "execute_result"
    }
   ],
   "source": [
    "## scoreRecord is the score given by our model\n",
    "scoreRecord = pd.read_csv('UserC1/scoreRecord.csv')\n",
    "scoreRecord.head()"
   ]
  },
  {
   "cell_type": "markdown",
   "metadata": {},
   "source": [
    "## Read Human baseline and Generate Charts"
   ]
  },
  {
   "cell_type": "code",
   "execution_count": 46,
   "metadata": {},
   "outputs": [],
   "source": [
    "for jsonPath in glob.glob('UserC1/human/*.json'):\n",
    "    with open(jsonPath) as f:\n",
    "        vSpec = json.load(f)\n",
    "    imgIdx = os.path.split(jsonPath)[1].split('.')[0]\n",
    "    \n",
    "    nBar = len(json.loads(vSpec['data']['values']))\n",
    "        \n",
    "    bestParas = scoreRecord[scoreRecord.nbar == nBar].sort_values(by='score', ascending = False).iloc[0]\n",
    "    \n",
    "    vSpec['width'] = bestParas['width']\n",
    "    vSpec['encoding']['x']['band'] = bestParas['bandwidth']\n",
    "    \n",
    "    vSpec['encoding']['x']['title'] = None\n",
    "    vSpec['encoding']['y']['title'] = None\n",
    "    vSpec['encoding']['x']['scale']['paddingInner'] = 0\n",
    "    \n",
    "    chart = alt.Chart.from_dict(vSpec)\n",
    "    \n",
    "    namePrefix = imgIdx.split('_')[0] + '_2'\n",
    "    chart.save(os.path.join(save_Folder, namePrefix + '.png'))\n",
    "    with open(os.path.join(save_Folder, namePrefix + '.json'), 'w') as f:\n",
    "        json.dump(vSpec, f)"
   ]
  },
  {
   "cell_type": "code",
   "execution_count": 51,
   "metadata": {},
   "outputs": [],
   "source": [
    "save_Folder = 'UserC1/random'\n",
    "for jsonPath in glob.glob('UserC1/result/*.json'):\n",
    "    with open(jsonPath) as f:\n",
    "        vSpec = json.load(f)\n",
    "    imgIdx = os.path.split(jsonPath)[1].split('.')[0]\n",
    "    \n",
    "    nBar = len(json.loads(vSpec['data']['values']))\n",
    "        \n",
    "#     bestParas = scoreRecord[scoreRecord.nbar == nBar].sort_values(by='score', ascending = False).iloc[0]\n",
    "    \n",
    "    vSpec['width'] = random.sample(list(range(300,1200,100)), 1)[0]\n",
    "    vSpec['encoding']['x']['band'] = random.sample(list(range(10,101,5)), 1)[0] / 100\n",
    "    \n",
    "    vSpec['encoding']['x']['title'] = None\n",
    "    vSpec['encoding']['y']['title'] = None\n",
    "    vSpec['encoding']['x']['scale']['paddingInner'] = 0\n",
    "    \n",
    "    chart = alt.Chart.from_dict(vSpec)\n",
    "    \n",
    "    namePrefix = imgIdx.split('_')[0] + '_3'\n",
    "    chart.save(os.path.join(save_Folder, namePrefix + '.png'))\n",
    "    with open(os.path.join(save_Folder, namePrefix + '.json'), 'w') as f:\n",
    "        json.dump(vSpec, f)"
   ]
  },
  {
   "cell_type": "markdown",
   "metadata": {},
   "source": [
    "## Generate Excel"
   ]
  },
  {
   "cell_type": "code",
   "execution_count": null,
   "metadata": {},
   "outputs": [],
   "source": [
    "for filePath in glob.glob(os.path.join(folder, '*.json')):\n",
    "    fileName = os.path.split(filePath)[1].split('.')[0]\n",
    "    with open(filePath) as json_file:\n",
    "        vSpec = json.load(json_file)\n",
    "    data = json.loads(vSpec['data']['values'])\n",
    "    \n",
    "    excelName = fileName.split('_')[0] + '_1'\n",
    "    bookpath = os.path.abspath('')+'/excelSheet/'+excelName+'.xlsx'\n",
    "    workbook = xlsxwriter.Workbook(bookpath)\n",
    "    worksheet = workbook.add_worksheet()\n",
    "    worksheet.write('A1', 'EMAE')\n",
    "    worksheet.write_column('A2', [x['NAME'] for x in data])\n",
    "    worksheet.write('B1', 'hits86')\n",
    "    worksheet.write_column('B2', [x[\"hits86\"] for x in data])\n",
    "        \n",
    "    chart1 = workbook.add_chart({'type': 'column'})\n",
    "    chart1.add_series({\n",
    "        'name':'=Sheet1!$B$1',\n",
    "        'categories':'=Sheet1!$A$2:$A$' + str(len(data) + 1),\n",
    "        'values': '=Sheet1!$B$2:$B$' + str(len(data)+1),\n",
    "        'fill':  {'color': '#3b6d9c'}\n",
    "    })\n",
    "    \n",
    "    chart1.set_title({'none': True})\n",
    "    chart1.set_legend({'none': True})\n",
    "    chart1.set_x_axis({'num_font': {'size': 9, 'rotation': 0}, 'major_gridlines': {'visible': False}, 'major_tick_mark': 'none','minor_tick_mark': 'outside'})\n",
    "    chart1.set_y_axis({'num_font': {'size': 9, 'rotation': 0}, 'major_gridlines': {'visible': False}, 'major_tick_mark': 'outside','minor_tick_mark': 'none'})\n",
    "    chart1.set_chartarea({\n",
    "        'border': {'none': True}\n",
    "    })\n",
    "    chart1.set_plotarea({\n",
    "        'border': {'color': '#dddddd'}\n",
    "    })\n",
    "\n",
    "    worksheet.insert_chart('D2', chart1, {'x_offset': 25, 'y_offset': 10})                      \n",
    "    workbook.close()\n",
    "\n",
    "    xlApp = Dispatch('Excel.Application')\n",
    "    # To open existing spread sheet.\n",
    "    abspath = os.path.abspath('')+'/excelSheet/'+excelName+'.xlsx'\n",
    "    workbook = xlApp.Workbooks.Open(abspath)\n",
    "    #To select particular worksheet of the workbook by name.\n",
    "    worksheet_name='sheet1'\n",
    "    xlApp.Sheets(worksheet_name).Select()\n",
    "\n",
    "    # To create an object for the worksheet.\n",
    "    xlSheet1 = xlApp.Sheets(worksheet_name)\n",
    "\n",
    "    #WARNING: The following line will cause the script to discard any unsaved changes in your workbook\n",
    "    #Ensure to save any work before running script\n",
    "    xlApp.DisplayAlerts = False\n",
    "    \n",
    "    currentChart = xlSheet1.ChartObjects()[0]\n",
    "    currentChart.Copy\n",
    "    figpath = os.path.abspath('')+'/excelFig/'+excelName+'.png'\n",
    "    currentChart.Chart.Export(figpath)\n",
    "    workbook.Close(True)"
   ]
  },
  {
   "cell_type": "code",
   "execution_count": null,
   "metadata": {},
   "outputs": [],
   "source": []
  },
  {
   "cell_type": "code",
   "execution_count": null,
   "metadata": {},
   "outputs": [],
   "source": []
  },
  {
   "cell_type": "code",
   "execution_count": null,
   "metadata": {},
   "outputs": [],
   "source": []
  }
 ],
 "metadata": {
  "kernelspec": {
   "display_name": "myKernel",
   "language": "python",
   "name": "venv"
  },
  "language_info": {
   "codemirror_mode": {
    "name": "ipython",
    "version": 3
   },
   "file_extension": ".py",
   "mimetype": "text/x-python",
   "name": "python",
   "nbconvert_exporter": "python",
   "pygments_lexer": "ipython3",
   "version": "3.6.9"
  }
 },
 "nbformat": 4,
 "nbformat_minor": 2
}
