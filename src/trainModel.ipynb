{
 "cells": [
  {
   "cell_type": "markdown",
   "metadata": {},
   "source": [
    "# Model Training\n",
    "- The notebook provides the code for training the scoring model in Experiment 1 and Experiment 2."
   ]
  },
  {
   "cell_type": "code",
   "execution_count": 1,
   "metadata": {},
   "outputs": [],
   "source": [
    "import torch\n",
    "import torch.nn as nn\n",
    "from utils.loader import Loader\n",
    "from utils.model_arg import ModelArg\n",
    "from utils.evaluate import correct, loss_func\n",
    "from utils.plot_res import plot\n",
    "from models.assess import Assess\n",
    "from datetime import datetime\n",
    "import pandas as pd\n",
    "import pickle\n",
    "import os\n",
    "import random\n",
    "import numpy as np"
   ]
  },
  {
   "cell_type": "code",
   "execution_count": 2,
   "metadata": {},
   "outputs": [],
   "source": [
    "### Specify a worker ###\n",
    "deviceId = 'cuda:0'\n",
    "device = torch.device(deviceId)"
   ]
  },
  {
   "cell_type": "code",
   "execution_count": 3,
   "metadata": {},
   "outputs": [],
   "source": [
    "def train(args, saveFlag=False, printFlag=True):\n",
    "    \"\"\"Training Block for the input data.\n",
    "    :args: an instance of the ModelArgs class\n",
    "    :saveFlag: whether to save best models\n",
    "    :printFlag: whether to print out training logs\n",
    "    \"\"\"\n",
    "    folder = datetime.now().strftime('%Y-%m-%d-%H%M%S')\n",
    "    log_path = f\"{args.model_save_to}{folder}\"\n",
    "    if saveFlag:\n",
    "        os.mkdir(log_path)\n",
    "    log_path += '/'\n",
    "    torch.manual_seed(args.seed)\n",
    "    train_loader, val_loader = Loader(args, device).load_dataset()\n",
    "    torch.backends.cudnn.deterministic = True\n",
    "    if torch.cuda.is_available():\n",
    "        torch.cuda.manual_seed_all(args.seed)\n",
    "    model = Assess(device, param_dim=len(args.fields), linear_list=args.linear_list)\n",
    "    model.to(device)\n",
    "    parameter_sum = sum(p.numel() for p in model.parameters())\n",
    "    if printFlag:\n",
    "        print('Total Parameters: ', parameter_sum)\n",
    "    optimizer = torch.optim.Adam(model.parameters(), lr=args.lr)     \n",
    "    ### basic initialization\n",
    "    train_len = len(train_loader)\n",
    "    train_loss_log, train_acc_log, val_acc_log, score_diff = [], [], [], []\n",
    "    max_acc, max_val_acc, max_delta = 0.0, 0.0, 0.0\n",
    "    learning_rate = args.lr \n",
    "    optimizer = torch.optim.Adadelta(model.parameters(), lr=learning_rate)\n",
    "    ### training\n",
    "    for epoch in range(args.epoch):\n",
    "        total_loss = 0.0\n",
    "        train_correct_sum, val_correct_sum = 0.0, 0.0\n",
    "        train_current_len, val_current_len = 0.0, 0.0\n",
    "        score_report = 0.0\n",
    "        if epoch % 50 == 0:\n",
    "            learning_rate /= 2\n",
    "            optimizer = torch.optim.Adadelta(model.parameters(), lr=learning_rate)\n",
    "        ### mini batch\n",
    "        for i, (x, names, winningCount, lossingCount) in enumerate(train_loader):\n",
    "            optimizer.zero_grad()\n",
    "            model.train()\n",
    "            score = model(x)\n",
    "            score_report += torch.sum(torch.abs(score[0]-score[1]))\n",
    "            loss = loss_func(score, (winningCount, lossingCount))\n",
    "            loss.to(device)\n",
    "            total_loss += loss\n",
    "            train_correct_sum += correct(score)\n",
    "            train_current_len += x[0].shape[0]\n",
    "            loss.backward()\n",
    "            optimizer.step()\n",
    "        for i, (x, names, _, _) in enumerate(val_loader):\n",
    "            model.eval()\n",
    "            score = model(x)\n",
    "            val_correct_sum += correct(score)\n",
    "            val_current_len += x[0].shape[0]\n",
    "        train_acc = train_correct_sum / train_current_len\n",
    "        val_acc = val_correct_sum / val_current_len\n",
    "        if printFlag:\n",
    "            print(f'\\rEpoch-{epoch}: Loss {total_loss :.4f}, Train Acc {train_acc:.3f}, Val Acc {val_acc:.3f}, δS {score_report:.2f}' + ' '*23)\n",
    "        train_acc_log.append(train_acc.detach().cpu())\n",
    "        train_loss_log.append(total_loss.detach().cpu())\n",
    "        val_acc_log.append(val_acc.detach().cpu())\n",
    "        score_diff.append(score_report.detach().cpu())\n",
    "        #### save good models\n",
    "        if max_acc <= train_acc:\n",
    "            max_acc = train_acc\n",
    "            if saveFlag:\n",
    "                torch.save(model, f'{log_path}best_t.pt')\n",
    "        if max_val_acc <= val_acc:\n",
    "            max_val_acc = val_acc\n",
    "            if saveFlag:\n",
    "                torch.save(model, f'{log_path}best_v.pt')\n",
    "        if max_delta <= score_report:\n",
    "            max_delta = score_report\n",
    "            if saveFlag:\n",
    "                torch.save(model, f'{log_path}best_s.pt')\n",
    "    logdata ={'train_loss': train_loss_log, 'train_acc': train_acc_log, 'val_acc': val_acc_log, 'score_diff': score_diff}\n",
    "    ### save the training log and the hyper parameters\n",
    "    if saveFlag:\n",
    "        torch.save(model, f'{log_path}final.pt')\n",
    "        with open(f'{log_path}loss_log_dict.pkl', 'wb') as f:\n",
    "            pickle.dump(logdata, f)\n",
    "        with open(f'{log_path}hyperparam.pkl', 'wb') as f:\n",
    "            pickle.dump(args, f)\n",
    "    return folder, logdata"
   ]
  },
  {
   "cell_type": "markdown",
   "metadata": {},
   "source": [
    "## Exp 1"
   ]
  },
  {
   "cell_type": "code",
   "execution_count": 4,
   "metadata": {},
   "outputs": [
    {
     "name": "stdout",
     "output_type": "stream",
     "text": [
      "Average accuracy after 10 rounds: 0.7593 (Train) 0.7560 (Validation)\n"
     ]
    }
   ],
   "source": [
    "valAll = []\n",
    "trainAll = []\n",
    "n = 10\n",
    "for monteCarloDVidx in range(n):   \n",
    "    args = ModelArg(\n",
    "        batch_size=512,\n",
    "        lr=2,\n",
    "        epoch=200,\n",
    "        linear_list=[64, 32, 32, 16, 8, 4],\n",
    "        val_split_ratio=0.2,\n",
    "        label_path='../dataset/exp1/turk_results.csv',\n",
    "        param_path='../dataset/exp1/parameters.csv',\n",
    "        extreme_path='../dataset/exp1/extremes.csv',\n",
    "        seed=monteCarloDVidx,\n",
    "        fields=['width', 'nbar', 'bandwidth'],\n",
    "        name=f'Experiment 1: {monteCarloDVidx}',\n",
    "    )\n",
    "    folder_name, log = train(args, saveFlag=False, printFlag=False)\n",
    "    # plot(log, modelname=args.name, printFlag=True)\n",
    "    trainAll.append(max(log['train_acc']))\n",
    "    valAll.append(max(log['val_acc']))\n",
    "print(f'Average accuracy after {n} rounds: {np.mean(trainAll):.4f} (Train) {np.mean(valAll):.4f} (Validation)')"
   ]
  },
  {
   "cell_type": "markdown",
   "metadata": {},
   "source": [
    "## Exp2"
   ]
  },
  {
   "cell_type": "code",
   "execution_count": 5,
   "metadata": {},
   "outputs": [
    {
     "name": "stdout",
     "output_type": "stream",
     "text": [
      "Average accuracy after 1 rounds: 0.7762 (Train) 0.7743 (Validation)\n"
     ]
    }
   ],
   "source": [
    "valAll = []\n",
    "trainAll = []\n",
    "n = 1\n",
    "for monteCarloDVidx in range(n):   \n",
    "    args = ModelArg(\n",
    "        batch_size=512,\n",
    "        linear_list=[64, 256, 128, 64, 32, 16, 8, 4],\n",
    "        val_split_ratio=0.2,\n",
    "        label_path='../dataset/exp2/turk_results.csv',\n",
    "        param_path='../dataset/exp2/parameters.csv',\n",
    "        extreme_path='../dataset/exp2/extremes.csv',\n",
    "        fields=['nbar', 'bandwidth', 'bandwidth', 'maxChar', 'rotation', 'orientation'],\n",
    "        seed=monteCarloDVidx,\n",
    "        epoch=200,\n",
    "        lr=2,\n",
    "        name=f'Experiment 2: {monteCarloDVidx}'\n",
    "    )\n",
    "    folder_name, log = train(args, saveFlag=False, printFlag=False)\n",
    "    # plot(log, modelname=args.name, printFlag=True)\n",
    "    trainAll.append(max(log['train_acc']))\n",
    "    valAll.append(max(log['val_acc']))\n",
    "print(f'Average accuracy after {n} rounds: {np.mean(trainAll):.4f} (Train) {np.mean(valAll):.4f} (Validation)')"
   ]
  }
 ],
 "metadata": {
  "kernelspec": {
   "display_name": "Python 3",
   "language": "python",
   "name": "python3"
  },
  "language_info": {
   "codemirror_mode": {
    "name": "ipython",
    "version": 3
   },
   "file_extension": ".py",
   "mimetype": "text/x-python",
   "name": "python",
   "nbconvert_exporter": "python",
   "pygments_lexer": "ipython3",
   "version": "3.6.2"
  }
 },
 "nbformat": 4,
 "nbformat_minor": 4
}
