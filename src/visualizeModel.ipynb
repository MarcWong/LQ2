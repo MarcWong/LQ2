{
 "cells": [
  {
   "cell_type": "code",
   "execution_count": 1,
   "metadata": {},
   "outputs": [],
   "source": [
    "from utils.loader import Loader\n",
    "from utils.plot_res import plotpkl\n",
    "import matplotlib.pyplot as plt\n",
    "#import plotly.express as px\n",
    "#import plotly.graph_objects as go\n",
    "#import plotly.figure_factory as ff\n",
    "import torch\n",
    "import numpy as np\n",
    "import pandas as pd\n",
    "import pickle"
   ]
  },
  {
   "cell_type": "markdown",
   "metadata": {},
   "source": [
    "## Load Pretrained Models"
   ]
  },
  {
   "cell_type": "code",
   "execution_count": 2,
   "metadata": {},
   "outputs": [],
   "source": [
    "folder = '2024-08-22-102315'\n",
    "with open(f'checkpoint/{folder}/hyperparam.pkl', 'rb') as f:\n",
    "    args = pickle.load(f)  \n",
    "device = torch.device('cuda:0')\n",
    "loader = Loader(args, device)\n",
    "model = loader.load_model(folder=folder, model_name='best_v')\n",
    "# plotpkl(f'checkpoint/{folder}/loss_log_dict.pkl', 'Experiment')"
   ]
  },
  {
   "cell_type": "markdown",
   "metadata": {},
   "source": [
    "## Generate Grid Data and Predict their Scores"
   ]
  },
  {
   "cell_type": "code",
   "execution_count": 3,
   "metadata": {},
   "outputs": [],
   "source": [
    "width_ranges = list(range(300,1200,100))\n",
    "band_ranges = [b/100 for b in list(range(30,101,5))]\n",
    "nbars = list(range(5, 31))\n",
    "width_grid = loader.minmax(np.array(width_ranges), 'width')\n",
    "bandwidth_grid = loader.minmax(np.array(band_ranges), 'bandwidth')\n",
    "b_g, w_g = np.meshgrid(bandwidth_grid, width_grid)\n",
    "paras = list(zip(b_g.flatten(), w_g.flatten()))\n",
    "origindim = {\n",
    "    'nbar': nbars,\n",
    "    'bandwidth': band_ranges,\n",
    "    'width': width_ranges,\n",
    "    'aspectRatio': [x/300 for x in width_ranges]\n",
    "}\n",
    "param_list = []\n",
    "for nbar in nbars:\n",
    "    nnbar = loader.minmax(nbar, 'nbar')\n",
    "    param_list += [torch.FloatTensor([x[1], nnbar, x[0]]).to(device) for x in paras]\n",
    "dataset = torch.stack(param_list)"
   ]
  },
  {
   "cell_type": "code",
   "execution_count": 9,
   "metadata": {},
   "outputs": [
    {
     "data": {
      "text/html": [
       "<div>\n",
       "<style scoped>\n",
       "    .dataframe tbody tr th:only-of-type {\n",
       "        vertical-align: middle;\n",
       "    }\n",
       "\n",
       "    .dataframe tbody tr th {\n",
       "        vertical-align: top;\n",
       "    }\n",
       "\n",
       "    .dataframe thead th {\n",
       "        text-align: right;\n",
       "    }\n",
       "</style>\n",
       "<table border=\"1\" class=\"dataframe\">\n",
       "  <thead>\n",
       "    <tr style=\"text-align: right;\">\n",
       "      <th></th>\n",
       "      <th>score</th>\n",
       "      <th>idx</th>\n",
       "      <th>nbar</th>\n",
       "      <th>width</th>\n",
       "      <th>bandwidth</th>\n",
       "      <th>aspectRatio</th>\n",
       "    </tr>\n",
       "  </thead>\n",
       "  <tbody>\n",
       "    <tr>\n",
       "      <th>score</th>\n",
       "      <td>1.000000</td>\n",
       "      <td>-0.244494</td>\n",
       "      <td>-2.523995e-01</td>\n",
       "      <td>1.580612e-01</td>\n",
       "      <td>3.933799e-01</td>\n",
       "      <td>1.580612e-01</td>\n",
       "    </tr>\n",
       "    <tr>\n",
       "      <th>idx</th>\n",
       "      <td>-0.244494</td>\n",
       "      <td>1.000000</td>\n",
       "      <td>9.992601e-01</td>\n",
       "      <td>3.822339e-02</td>\n",
       "      <td>4.263997e-03</td>\n",
       "      <td>3.822339e-02</td>\n",
       "    </tr>\n",
       "    <tr>\n",
       "      <th>nbar</th>\n",
       "      <td>-0.252400</td>\n",
       "      <td>0.999260</td>\n",
       "      <td>1.000000e+00</td>\n",
       "      <td>-6.877657e-17</td>\n",
       "      <td>2.967441e-18</td>\n",
       "      <td>1.157218e-16</td>\n",
       "    </tr>\n",
       "    <tr>\n",
       "      <th>width</th>\n",
       "      <td>0.158061</td>\n",
       "      <td>0.038223</td>\n",
       "      <td>-6.877657e-17</td>\n",
       "      <td>1.000000e+00</td>\n",
       "      <td>1.524315e-17</td>\n",
       "      <td>1.000000e+00</td>\n",
       "    </tr>\n",
       "    <tr>\n",
       "      <th>bandwidth</th>\n",
       "      <td>0.393380</td>\n",
       "      <td>0.004264</td>\n",
       "      <td>2.967441e-18</td>\n",
       "      <td>1.524315e-17</td>\n",
       "      <td>1.000000e+00</td>\n",
       "      <td>2.551866e-19</td>\n",
       "    </tr>\n",
       "    <tr>\n",
       "      <th>aspectRatio</th>\n",
       "      <td>0.158061</td>\n",
       "      <td>0.038223</td>\n",
       "      <td>1.157218e-16</td>\n",
       "      <td>1.000000e+00</td>\n",
       "      <td>2.551866e-19</td>\n",
       "      <td>1.000000e+00</td>\n",
       "    </tr>\n",
       "  </tbody>\n",
       "</table>\n",
       "</div>"
      ],
      "text/plain": [
       "                score       idx          nbar         width     bandwidth  \\\n",
       "score        1.000000 -0.244494 -2.523995e-01  1.580612e-01  3.933799e-01   \n",
       "idx         -0.244494  1.000000  9.992601e-01  3.822339e-02  4.263997e-03   \n",
       "nbar        -0.252400  0.999260  1.000000e+00 -6.877657e-17  2.967441e-18   \n",
       "width        0.158061  0.038223 -6.877657e-17  1.000000e+00  1.524315e-17   \n",
       "bandwidth    0.393380  0.004264  2.967441e-18  1.524315e-17  1.000000e+00   \n",
       "aspectRatio  0.158061  0.038223  1.157218e-16  1.000000e+00  2.551866e-19   \n",
       "\n",
       "              aspectRatio  \n",
       "score        1.580612e-01  \n",
       "idx          3.822339e-02  \n",
       "nbar         1.157218e-16  \n",
       "width        1.000000e+00  \n",
       "bandwidth    2.551866e-19  \n",
       "aspectRatio  1.000000e+00  "
      ]
     },
     "execution_count": 9,
     "metadata": {},
     "output_type": "execute_result"
    }
   ],
   "source": [
    "names = list(range(dataset.shape[0]))\n",
    "results = model.assess(dataset, names) # make prediction\n",
    "record = pd.DataFrame()                # organize result\n",
    "record['score'] = [res[1] for res in results]\n",
    "record['idx'] = names\n",
    "record['nbar'] = dataset[:,1].detach().cpu()\n",
    "record['width'] = dataset[:,0].detach().cpu()\n",
    "record['bandwidth'] = dataset[:,2].detach().cpu()\n",
    "record = loader.batch_denormalize(record)\n",
    "# record = record.astype({'width': 'int32', 'nbar': 'int32'})\n",
    "record['aspectRatio'] = record['width'].apply(lambda x: x / 300)\n",
    "record.corr()"
   ]
  },
  {
   "cell_type": "code",
   "execution_count": 5,
   "metadata": {},
   "outputs": [
    {
     "data": {
      "text/plain": [
       "<AxesSubplot:>"
      ]
     },
     "execution_count": 5,
     "metadata": {},
     "output_type": "execute_result"
    },
    {
     "data": {
      "image/png": "[encoded data removed]",
      "text/plain": [
       "<Figure size 432x288 with 1 Axes>"
      ]
     },
     "metadata": {
      "needs_background": "light"
     },
     "output_type": "display_data"
    }
   ],
   "source": [
    "record['score'].hist()"
   ]
  },
  {
   "cell_type": "code",
   "execution_count": 6,
   "metadata": {},
   "outputs": [],
   "source": [
    "def scatter(df, xaxis='nbar', yaxis='score', color=None):\n",
    "    data = df\n",
    "    if color is not None:\n",
    "        data[color] = df[color].astype('str')\n",
    "    px.scatter(data, x=xaxis, y=yaxis, color=color, marginal_y=\"box\").show()\n",
    "                \n",
    "def heatmap(record, xaxis='nbar', yaxis='width', aggr='mean'):\n",
    "    xx = origindim[xaxis]\n",
    "    yy = origindim[yaxis]\n",
    "    df = record\n",
    "    eps = 0.01\n",
    "    if aggr is 'max':\n",
    "        data = [[df[(abs(df[xaxis]-x)<eps) & (abs(df[yaxis]-y)<eps)]['score'].max() for x in xx] for y in yy]\n",
    "    elif aggr is 'mean':\n",
    "        data = [[df[(abs(df[xaxis]-x)<eps) & (abs(df[yaxis]-y)<eps)]['score'].mean() for x in xx] for y in yy]\n",
    "    elif aggr is 'min':\n",
    "        data = [[df[(abs(df[xaxis]-x)<eps) & (abs(df[yaxis]-y)<eps)]['score'].min() for x in xx] for y in yy]\n",
    "    else:\n",
    "        return\n",
    "    fig = go.Figure(data=go.Heatmap(\n",
    "        z=data,\n",
    "        x=xx,\n",
    "        y=yy,\n",
    "        colorscale='Emrld'))\n",
    "    fig.update_layout(xaxis_title=xaxis, yaxis_title=yaxis)  \n",
    "    fig.show()\n",
    "    return fig    "
   ]
  },
  {
   "cell_type": "code",
   "execution_count": 7,
   "metadata": {},
   "outputs": [
    {
     "ename": "NameError",
     "evalue": "name 'go' is not defined",
     "output_type": "error",
     "traceback": [
      "\u001b[0;31m---------------------------------------------------------------------------\u001b[0m",
      "\u001b[0;31mNameError\u001b[0m                                 Traceback (most recent call last)",
      "\u001b[0;32m<ipython-input-7-09e95d26955d>\u001b[0m in \u001b[0;36m<module>\u001b[0;34m\u001b[0m\n\u001b[0;32m----> 1\u001b[0;31m \u001b[0mfig\u001b[0m\u001b[0;34m=\u001b[0m\u001b[0mheatmap\u001b[0m\u001b[0;34m(\u001b[0m\u001b[0mrecord\u001b[0m\u001b[0;34m[\u001b[0m\u001b[0mrecord\u001b[0m\u001b[0;34m.\u001b[0m\u001b[0mnbar\u001b[0m \u001b[0;34m==\u001b[0m \u001b[0;36m20\u001b[0m\u001b[0;34m]\u001b[0m\u001b[0;34m,\u001b[0m \u001b[0mxaxis\u001b[0m\u001b[0;34m=\u001b[0m\u001b[0;34m'aspectRatio'\u001b[0m\u001b[0;34m,\u001b[0m \u001b[0myaxis\u001b[0m\u001b[0;34m=\u001b[0m\u001b[0;34m'bandwidth'\u001b[0m\u001b[0;34m,\u001b[0m \u001b[0maggr\u001b[0m\u001b[0;34m=\u001b[0m\u001b[0;34m'max'\u001b[0m\u001b[0;34m)\u001b[0m\u001b[0;34m\u001b[0m\u001b[0;34m\u001b[0m\u001b[0m\n\u001b[0m",
      "\u001b[0;32m<ipython-input-6-beb615eedb5e>\u001b[0m in \u001b[0;36mheatmap\u001b[0;34m(record, xaxis, yaxis, aggr)\u001b[0m\n\u001b[1;32m     18\u001b[0m     \u001b[0;32melse\u001b[0m\u001b[0;34m:\u001b[0m\u001b[0;34m\u001b[0m\u001b[0;34m\u001b[0m\u001b[0m\n\u001b[1;32m     19\u001b[0m         \u001b[0;32mreturn\u001b[0m\u001b[0;34m\u001b[0m\u001b[0;34m\u001b[0m\u001b[0m\n\u001b[0;32m---> 20\u001b[0;31m     fig = go.Figure(data=go.Heatmap(\n\u001b[0m\u001b[1;32m     21\u001b[0m         \u001b[0mz\u001b[0m\u001b[0;34m=\u001b[0m\u001b[0mdata\u001b[0m\u001b[0;34m,\u001b[0m\u001b[0;34m\u001b[0m\u001b[0;34m\u001b[0m\u001b[0m\n\u001b[1;32m     22\u001b[0m         \u001b[0mx\u001b[0m\u001b[0;34m=\u001b[0m\u001b[0mxx\u001b[0m\u001b[0;34m,\u001b[0m\u001b[0;34m\u001b[0m\u001b[0;34m\u001b[0m\u001b[0m\n",
      "\u001b[0;31mNameError\u001b[0m: name 'go' is not defined"
     ]
    }
   ],
   "source": [
    "fig=heatmap(record[record.nbar == 20], xaxis='aspectRatio', yaxis='bandwidth', aggr='max')"
   ]
  },
  {
   "cell_type": "code",
   "execution_count": 7,
   "metadata": {},
   "outputs": [
    {
     "ename": "NameError",
     "evalue": "name 'go' is not defined",
     "output_type": "error",
     "traceback": [
      "\u001b[0;31m---------------------------------------------------------------------------\u001b[0m",
      "\u001b[0;31mNameError\u001b[0m                                 Traceback (most recent call last)",
      "Cell \u001b[0;32mIn[7], line 3\u001b[0m\n\u001b[1;32m      1\u001b[0m \u001b[38;5;28;01mfor\u001b[39;00m nbar \u001b[38;5;129;01min\u001b[39;00m \u001b[38;5;28mlist\u001b[39m(\u001b[38;5;28mrange\u001b[39m(\u001b[38;5;241m5\u001b[39m,\u001b[38;5;241m35\u001b[39m,\u001b[38;5;241m5\u001b[39m)):\n\u001b[1;32m      2\u001b[0m \u001b[38;5;66;03m#     heatmap(record, xaxis='width', yaxis='bandwidth', fix='nbar', fixv=15)\u001b[39;00m\n\u001b[0;32m----> 3\u001b[0m     \u001b[43mheatmap\u001b[49m\u001b[43m(\u001b[49m\u001b[43mrecord\u001b[49m\u001b[43m[\u001b[49m\u001b[43mrecord\u001b[49m\u001b[38;5;241;43m.\u001b[39;49m\u001b[43mnbar\u001b[49m\u001b[43m \u001b[49m\u001b[38;5;241;43m==\u001b[39;49m\u001b[43m \u001b[49m\u001b[43mnbar\u001b[49m\u001b[43m]\u001b[49m\u001b[43m,\u001b[49m\u001b[43m \u001b[49m\u001b[43mxaxis\u001b[49m\u001b[38;5;241;43m=\u001b[39;49m\u001b[38;5;124;43m'\u001b[39;49m\u001b[38;5;124;43mwidth\u001b[39;49m\u001b[38;5;124;43m'\u001b[39;49m\u001b[43m,\u001b[49m\u001b[43m \u001b[49m\u001b[43myaxis\u001b[49m\u001b[38;5;241;43m=\u001b[39;49m\u001b[38;5;124;43m'\u001b[39;49m\u001b[38;5;124;43mbandwidth\u001b[39;49m\u001b[38;5;124;43m'\u001b[39;49m\u001b[43m,\u001b[49m\u001b[43m \u001b[49m\u001b[43maggr\u001b[49m\u001b[38;5;241;43m=\u001b[39;49m\u001b[38;5;124;43m'\u001b[39;49m\u001b[38;5;124;43mmean\u001b[39;49m\u001b[38;5;124;43m'\u001b[39;49m\u001b[43m)\u001b[49m\n",
      "Cell \u001b[0;32mIn[5], line 20\u001b[0m, in \u001b[0;36mheatmap\u001b[0;34m(record, xaxis, yaxis, aggr)\u001b[0m\n\u001b[1;32m     18\u001b[0m \u001b[38;5;28;01melse\u001b[39;00m:\n\u001b[1;32m     19\u001b[0m     \u001b[38;5;28;01mreturn\u001b[39;00m\n\u001b[0;32m---> 20\u001b[0m fig \u001b[38;5;241m=\u001b[39m \u001b[43mgo\u001b[49m\u001b[38;5;241m.\u001b[39mFigure(data\u001b[38;5;241m=\u001b[39mgo\u001b[38;5;241m.\u001b[39mHeatmap(\n\u001b[1;32m     21\u001b[0m     z\u001b[38;5;241m=\u001b[39mdata,\n\u001b[1;32m     22\u001b[0m     x\u001b[38;5;241m=\u001b[39mxx,\n\u001b[1;32m     23\u001b[0m     y\u001b[38;5;241m=\u001b[39myy,\n\u001b[1;32m     24\u001b[0m     colorscale\u001b[38;5;241m=\u001b[39m\u001b[38;5;124m'\u001b[39m\u001b[38;5;124mEmrld\u001b[39m\u001b[38;5;124m'\u001b[39m))\n\u001b[1;32m     25\u001b[0m fig\u001b[38;5;241m.\u001b[39mupdate_layout(xaxis_title\u001b[38;5;241m=\u001b[39mxaxis, yaxis_title\u001b[38;5;241m=\u001b[39myaxis)  \n\u001b[1;32m     26\u001b[0m fig\u001b[38;5;241m.\u001b[39mshow()\n",
      "\u001b[0;31mNameError\u001b[0m: name 'go' is not defined"
     ]
    }
   ],
   "source": [
    "for nbar in list(range(5,35,5)):\n",
    "#     heatmap(record, xaxis='width', yaxis='bandwidth', fix='nbar', fixv=15)\n",
    "    heatmap(record[record.nbar == nbar], xaxis='width', yaxis='bandwidth', aggr='mean')"
   ]
  },
  {
   "cell_type": "markdown",
   "metadata": {},
   "source": [
    "## Predict LQ2 score"
   ]
  },
  {
   "cell_type": "code",
   "execution_count": 11,
   "metadata": {},
   "outputs": [],
   "source": [
    "param_list = []\n",
    "def truncate(inpu):\n",
    "    if inpu < 0:\n",
    "        return 0\n",
    "    if inpu > 1:\n",
    "        return 1\n",
    "    return inpu\n",
    "\n",
    "# df = pd.read_csv('/netpool/homes/wangyo/Projects/vega_editor_backend/evaluation/param_lq2_baseline_initVega.csv')\n",
    "df = pd.read_csv('/netpool/homes/wangyo/Projects/vega_editor_backend/evaluation/param_lq2_VisBO.csv')\n",
    "\n",
    "len(df['nbar'])\n",
    "for id in range(len(df['nbar'])):\n",
    "    nnbar = truncate(loader.minmax(df['nbar'][id], 'nbar'))\n",
    "    nbandwidth = truncate(loader.minmax(df['bandwidth'][id], 'bandwidth'))\n",
    "    nwidth = truncate(loader.minmax(df['width'][id], 'width'))\n",
    "    param_list += [torch.FloatTensor([nwidth, nnbar, nbandwidth]).to(device)]\n",
    "\n",
    "dataset = torch.stack(param_list)"
   ]
  },
  {
   "cell_type": "code",
   "execution_count": 13,
   "metadata": {},
   "outputs": [],
   "source": [
    "names = list(range(dataset.shape[0]))\n",
    "results = model.assess(dataset, names) # make prediction"
   ]
  },
  {
   "cell_type": "code",
   "execution_count": 30,
   "metadata": {},
   "outputs": [
    {
     "data": {
      "text/html": [
       "<div>\n",
       "<style scoped>\n",
       "    .dataframe tbody tr th:only-of-type {\n",
       "        vertical-align: middle;\n",
       "    }\n",
       "\n",
       "    .dataframe tbody tr th {\n",
       "        vertical-align: top;\n",
       "    }\n",
       "\n",
       "    .dataframe thead th {\n",
       "        text-align: right;\n",
       "    }\n",
       "</style>\n",
       "<table border=\"1\" class=\"dataframe\">\n",
       "  <thead>\n",
       "    <tr style=\"text-align: right;\">\n",
       "      <th></th>\n",
       "      <th>filename</th>\n",
       "      <th>nbar</th>\n",
       "      <th>bandwidth</th>\n",
       "      <th>width</th>\n",
       "      <th>LQ2</th>\n",
       "    </tr>\n",
       "  </thead>\n",
       "  <tbody>\n",
       "    <tr>\n",
       "      <th>0</th>\n",
       "      <td>86398352001580</td>\n",
       "      <td>4</td>\n",
       "      <td>99.050227</td>\n",
       "      <td>624.456198</td>\n",
       "      <td>0.278441</td>\n",
       "    </tr>\n",
       "    <tr>\n",
       "      <th>1</th>\n",
       "      <td>17368637001831</td>\n",
       "      <td>2</td>\n",
       "      <td>93.467186</td>\n",
       "      <td>732.713389</td>\n",
       "      <td>0.239640</td>\n",
       "    </tr>\n",
       "    <tr>\n",
       "      <th>2</th>\n",
       "      <td>49302962006837</td>\n",
       "      <td>4</td>\n",
       "      <td>74.027402</td>\n",
       "      <td>506.495145</td>\n",
       "      <td>0.323764</td>\n",
       "    </tr>\n",
       "    <tr>\n",
       "      <th>3</th>\n",
       "      <td>11830365006450</td>\n",
       "      <td>5</td>\n",
       "      <td>197.628634</td>\n",
       "      <td>284.380239</td>\n",
       "      <td>0.446104</td>\n",
       "    </tr>\n",
       "    <tr>\n",
       "      <th>4</th>\n",
       "      <td>94483094006737</td>\n",
       "      <td>7</td>\n",
       "      <td>136.186879</td>\n",
       "      <td>718.909982</td>\n",
       "      <td>0.262080</td>\n",
       "    </tr>\n",
       "    <tr>\n",
       "      <th>...</th>\n",
       "      <td>...</td>\n",
       "      <td>...</td>\n",
       "      <td>...</td>\n",
       "      <td>...</td>\n",
       "      <td>...</td>\n",
       "    </tr>\n",
       "    <tr>\n",
       "      <th>528</th>\n",
       "      <td>78151143005492</td>\n",
       "      <td>4</td>\n",
       "      <td>73.901320</td>\n",
       "      <td>381.930733</td>\n",
       "      <td>0.443967</td>\n",
       "    </tr>\n",
       "    <tr>\n",
       "      <th>529</th>\n",
       "      <td>14354115005935</td>\n",
       "      <td>3</td>\n",
       "      <td>151.086795</td>\n",
       "      <td>439.979943</td>\n",
       "      <td>0.429516</td>\n",
       "    </tr>\n",
       "    <tr>\n",
       "      <th>530</th>\n",
       "      <td>12784129003060</td>\n",
       "      <td>5</td>\n",
       "      <td>45.407298</td>\n",
       "      <td>700.381205</td>\n",
       "      <td>0.250892</td>\n",
       "    </tr>\n",
       "    <tr>\n",
       "      <th>531</th>\n",
       "      <td>11128</td>\n",
       "      <td>8</td>\n",
       "      <td>33.004124</td>\n",
       "      <td>606.857128</td>\n",
       "      <td>0.310655</td>\n",
       "    </tr>\n",
       "    <tr>\n",
       "      <th>532</th>\n",
       "      <td>33979578000285</td>\n",
       "      <td>6</td>\n",
       "      <td>58.057316</td>\n",
       "      <td>369.727304</td>\n",
       "      <td>0.441270</td>\n",
       "    </tr>\n",
       "  </tbody>\n",
       "</table>\n",
       "<p>533 rows × 5 columns</p>\n",
       "</div>"
      ],
      "text/plain": [
       "           filename  nbar   bandwidth       width       LQ2\n",
       "0    86398352001580     4   99.050227  624.456198  0.278441\n",
       "1    17368637001831     2   93.467186  732.713389  0.239640\n",
       "2    49302962006837     4   74.027402  506.495145  0.323764\n",
       "3    11830365006450     5  197.628634  284.380239  0.446104\n",
       "4    94483094006737     7  136.186879  718.909982  0.262080\n",
       "..              ...   ...         ...         ...       ...\n",
       "528  78151143005492     4   73.901320  381.930733  0.443967\n",
       "529  14354115005935     3  151.086795  439.979943  0.429516\n",
       "530  12784129003060     5   45.407298  700.381205  0.250892\n",
       "531           11128     8   33.004124  606.857128  0.310655\n",
       "532  33979578000285     6   58.057316  369.727304  0.441270\n",
       "\n",
       "[533 rows x 5 columns]"
      ]
     },
     "execution_count": 30,
     "metadata": {},
     "output_type": "execute_result"
    }
   ],
   "source": [
    "lq2 = [ res[1] for res in results]\n",
    "df['LQ2'] = lq2\n",
    "df"
   ]
  },
  {
   "cell_type": "code",
   "execution_count": 31,
   "metadata": {},
   "outputs": [],
   "source": [
    "df.to_csv('/netpool/homes/wangyo/Projects/vega_editor_backend/evaluation/param_lq2_VisBO.csv', index=False)"
   ]
  },
  {
   "cell_type": "code",
   "execution_count": 32,
   "metadata": {},
   "outputs": [
    {
     "data": {
      "text/plain": [
       "0.32024592"
      ]
     },
     "execution_count": 32,
     "metadata": {},
     "output_type": "execute_result"
    }
   ],
   "source": [
    "np.mean(lq2)"
   ]
  },
  {
   "cell_type": "code",
   "execution_count": 33,
   "metadata": {},
   "outputs": [
    {
     "data": {
      "text/plain": [
       "0.08181448"
      ]
     },
     "execution_count": 33,
     "metadata": {},
     "output_type": "execute_result"
    }
   ],
   "source": [
    "np.std(lq2)"
   ]
  },
  {
   "cell_type": "code",
   "execution_count": 25,
   "metadata": {},
   "outputs": [],
   "source": [
    "df.to_csv('/netpool/homes/wangyo/Projects/vega_editor_backend/evaluation/param_lq2_baseline_initVega.csv', index=False)"
   ]
  },
  {
   "cell_type": "code",
   "execution_count": 26,
   "metadata": {},
   "outputs": [
    {
     "data": {
      "text/plain": [
       "0.32188615"
      ]
     },
     "execution_count": 26,
     "metadata": {},
     "output_type": "execute_result"
    }
   ],
   "source": [
    "np.mean(lq2)"
   ]
  },
  {
   "cell_type": "code",
   "execution_count": 27,
   "metadata": {},
   "outputs": [
    {
     "data": {
      "text/plain": [
       "0.05622666"
      ]
     },
     "execution_count": 27,
     "metadata": {},
     "output_type": "execute_result"
    }
   ],
   "source": [
    "np.std(lq2)"
   ]
  },
  {
   "cell_type": "code",
   "execution_count": null,
   "metadata": {},
   "outputs": [],
   "source": []
  }
 ],
 "metadata": {
  "kernelspec": {
   "display_name": "Python 3 (ipykernel)",
   "language": "python",
   "name": "python3"
  },
  "language_info": {
   "codemirror_mode": {
    "name": "ipython",
    "version": 3
   },
   "file_extension": ".py",
   "mimetype": "text/x-python",
   "name": "python",
   "nbconvert_exporter": "python",
   "pygments_lexer": "ipython3",
   "version": "3.7.16"
  }
 },
 "nbformat": 4,
 "nbformat_minor": 4
}
